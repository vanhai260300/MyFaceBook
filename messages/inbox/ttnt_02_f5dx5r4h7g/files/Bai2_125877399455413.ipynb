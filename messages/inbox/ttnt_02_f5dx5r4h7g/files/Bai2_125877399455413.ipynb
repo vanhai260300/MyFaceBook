{
 "cells": [
  {
   "cell_type": "code",
   "execution_count": 49,
   "id": "driven-worthy",
   "metadata": {},
   "outputs": [
    {
     "name": "stdout",
     "output_type": "stream",
     "text": [
      "w1 using Sklearn library is: -0.055\n",
      "w0 using Sklearn library is: 10.8\n",
      "R2 score: 0.002975206611570136\n"
     ]
    },
    {
     "data": {
      "image/png": "[encoded data removed]",
      "text/plain": [
       "<Figure size 432x288 with 1 Axes>"
      ]
     },
     "metadata": {},
     "output_type": "display_data"
    }
   ],
   "source": [
    "#Câu 2: Tạo tạo độ ngẫu nhiên và vẽ lên trục tọa độ, tính W0, W1, Square\n",
    "import numpy as np\n",
    "import matplotlib.pyplot as plt\n",
    "import array as arr\n",
    "from sklearn.linear_model import LinearRegression\n",
    "from sklearn.metrics import r2_score\n",
    "\n",
    "dataX = np.arange(start=1,stop=11,step=1)\n",
    "dataY=np.arange(start=6,stop=16,step=1)\n",
    "ArX=arr.array('i', np.random.choice(dataX,10,replace=False))\n",
    "ArY=arr.array('i', np.random.choice(dataY,10,replace=False))\n",
    "x=np.array(ArX)\n",
    "y = np.array(ArY)\n",
    "\n",
    "\n",
    "n = np.size(x)\n",
    "\n",
    "colors = \"b\"\n",
    "area = 50\n",
    "plt.scatter(x, y, area, colors, alpha=0.5)\n",
    "\n",
    "reg = LinearRegression().fit(x.reshape(-1,1), y)\n",
    "print('w1 using Sklearn library is:', round(reg.coef_[0],3))\n",
    "print('w0 using Sklearn library is:', round(reg.intercept_,3))\n",
    "\n",
    "plt.scatter(x, y, area, colors, marker = \"o\")\n",
    "\n",
    "y_pred = reg.intercept_ + reg.coef_[0]*x\n",
    "r2Score = r2_score(y, y_pred)\n",
    "print('R2 score:', r2Score)\n",
    "\n",
    "plt.plot(x, y_pred, color = \"0\")\n",
    "\n",
    "\n",
    "plt.xlabel('x')\n",
    "plt.ylabel('y')\n",
    "\n",
    "plt.show()"
   ]
  },
  {
   "cell_type": "code",
   "execution_count": null,
   "id": "impaired-schedule",
   "metadata": {},
   "outputs": [],
   "source": [
    "\n"
   ]
  },
  {
   "cell_type": "code",
   "execution_count": 52,
   "id": "divided-boring",
   "metadata": {},
   "outputs": [
    {
     "name": "stdout",
     "output_type": "stream",
     "text": [
      "w0 sau khi tính lại là: 0.069\n",
      "w1 sau khi tính lại là: 12.162\n"
     ]
    }
   ],
   "source": [
    "#Câu 3: Tính w0,w1 với công thức ở slide số 9 và in ra.\n",
    "\n",
    "w0 = 0\n",
    "w1 = 0\n",
    "\n",
    "L = 0.0001  \n",
    "epochs = 500000  \n",
    "\n",
    "n = float(len(x))\n",
    "\n",
    "for i in range(epochs): \n",
    "    Y_pred = w0*x + w1 \n",
    "    D_w0 = (-2/n) * sum(x * (y - Y_pred)) \n",
    "    D_w1 = (-2/n) * sum(y - Y_pred) \n",
    "    w0 = w0 - L * D_w0  \n",
    "    w1 = w1 - L * D_w1  \n",
    "print('w0 sau khi tính lại là:', round(w0,3))    \n",
    "print('w1 sau khi tính lại là:', round(w1,3))    \n"
   ]
  },
  {
   "cell_type": "code",
   "execution_count": 53,
   "id": "reverse-situation",
   "metadata": {},
   "outputs": [
    {
     "data": {
      "image/png": "[encoded data removed]",
      "text/plain": [
       "<Figure size 432x288 with 1 Axes>"
      ]
     },
     "metadata": {},
     "output_type": "display_data"
    }
   ],
   "source": [
    "#Câu 4: Vẽ đường thẳng với w0 và w1\n",
    "Y_pred = w0*x + w1\n",
    "\n",
    "plt.scatter(x, y) \n",
    "if w0<0:\n",
    "    plt.plot([max(x), min(x)], [min(Y_pred), max(Y_pred)], color='b') \n",
    "else:\n",
    "    plt.plot([min(x), max(x)], [min(Y_pred), max(Y_pred)], color='b') \n",
    "plt.show()"
   ]
  },
  {
   "cell_type": "code",
   "execution_count": 24,
   "id": "foster-removal",
   "metadata": {},
   "outputs": [
    {
     "name": "stdout",
     "output_type": "stream",
     "text": [
      "0.7273533204384268\n"
     ]
    }
   ],
   "source": [
    "#Câu 5: Tính R_squared với công thức ở slide số 10 và in ra\n",
    "from statistics import mean\n",
    "import numpy as np\n",
    "import matplotlib.pyplot as plt\n",
    "from matplotlib import style\n",
    "style.use('ggplot')\n",
    "\n",
    "xs = np.array([3,4,5,6,7,8,9,10,11,12], dtype=np.float64)\n",
    "ys = np.array([12,5,23,1,7,12,16,19,15,12], dtype=np.float64)\n",
    "\n",
    "def best(xs,ys):\n",
    "    m = (((mean(xs)*mean(ys)) - mean(xs*ys)) /\n",
    "         ((mean(xs)*mean(xs)) - mean(xs*xs)))\n",
    "    b = mean(ys) - m*mean(xs)\n",
    "    return m, b\n",
    "\n",
    "def squared_error(ys_orig,ys_line):\n",
    "    return sum((ys_line - ys_orig) * (ys_line - ys_orig))\n",
    "\n",
    "def coefficient(ys_orig,ys_line):\n",
    "    y_mean_line = [mean(ys_orig) for y in ys_orig]\n",
    "    squared_r = squared_error(ys_orig, ys_line)\n",
    "    squared_y = squared_error(ys_orig, y_mean_line)\n",
    "    return 1 - (squared_r/squared_y)\n",
    "    \n",
    "m, b = best(xs,ys)\n",
    "regression_line = [(m*x)+b for x in xs]\n",
    "r_squared = coefficient(ys,regression_line)\n",
    "print(r_squared)"
   ]
  },
  {
   "cell_type": "code",
   "execution_count": 50,
   "id": "immune-chance",
   "metadata": {},
   "outputs": [
    {
     "name": "stdout",
     "output_type": "stream",
     "text": [
      "w1 using Sklearn library is: 0.069\n",
      "w0 using Sklearn library is: 12.162\n",
      "R2 score: 0.0007305759567065584\n"
     ]
    },
    {
     "data": {
      "image/png": "[encoded data removed]",
      "text/plain": [
       "<Figure size 432x288 with 1 Axes>"
      ]
     },
     "metadata": {},
     "output_type": "display_data"
    }
   ],
   "source": [
    "#Câu 6\n",
    "import numpy as np\n",
    "import matplotlib.pyplot as plt\n",
    "import array as arr\n",
    "from sklearn.linear_model import LinearRegression\n",
    "from sklearn.metrics import r2_score\n",
    "\n",
    "dataX = np.arange(start=1,stop=11,step=1)\n",
    "dataY=np.arange(start=6,stop=16,step=1)\n",
    "\n",
    "ArX.append(np.random.choice(dataX,1,replace=False))\n",
    "ArY.append(np.random.choice(dataY+20,1,replace=False))\n",
    "x=np.array(ArX)\n",
    "y = np.array(ArY)\n",
    "\n",
    "\n",
    "n = np.size(x)\n",
    "\n",
    "colors = \"b\"\n",
    "area = 50\n",
    "plt.scatter(x, y, area, colors, alpha=0.5)\n",
    "\n",
    "reg = LinearRegression().fit(x.reshape(-1,1), y)\n",
    "print('w1 using Sklearn library is:', round(reg.coef_[0],3))\n",
    "print('w0 using Sklearn library is:', round(reg.intercept_,3))\n",
    "\n",
    "plt.scatter(x, y, area, colors, marker = \"o\")\n",
    "\n",
    "y_pred = reg.intercept_ + reg.coef_[0]*x\n",
    "r2Score = r2_score(y, y_pred)\n",
    "print('R2 score:', r2Score)\n",
    "\n",
    "plt.plot(x, y_pred, color = \"0\")\n",
    "\n",
    "\n",
    "plt.xlabel('x')\n",
    "plt.ylabel('y')\n",
    "\n",
    "plt.show()"
   ]
  },
  {
   "cell_type": "code",
   "execution_count": 51,
   "id": "enclosed-paris",
   "metadata": {},
   "outputs": [
    {
     "data": {
      "image/png": "[encoded data removed]",
      "text/plain": [
       "<Figure size 432x288 with 1 Axes>"
      ]
     },
     "metadata": {},
     "output_type": "display_data"
    }
   ],
   "source": [
    "#Câu 7\n",
    "Y_pred = w0*x + w1\n",
    "\n",
    "plt.scatter(x, y)\n",
    "if w0<0:\n",
    "    plt.plot([max(x), min(x)], [min(Y_pred), max(Y_pred)], color='b') \n",
    "else:\n",
    "    plt.plot([min(x), max(x)], [min(Y_pred), max(Y_pred)], color='b') \n",
    "plt.show()"
   ]
  },
  {
   "cell_type": "code",
   "execution_count": 26,
   "id": "environmental-binary",
   "metadata": {},
   "outputs": [
    {
     "name": "stdout",
     "output_type": "stream",
     "text": [
      "0.02892738915065851\n"
     ]
    }
   ],
   "source": [
    "#8\n",
    "from statistics import mean\n",
    "import numpy as np\n",
    "import matplotlib.pyplot as plt\n",
    "from matplotlib import style\n",
    "style.use('ggplot')\n",
    "\n",
    "xs = np.array([1,2,4,4,5,6,7,8,9,10,3], dtype=np.float64)\n",
    "ys = np.array([13,9,29,11,12,15,8,6,7,16,10], dtype=np.float64)\n",
    "\n",
    "def best(xs,ys):\n",
    "    m = (((mean(xs)*mean(ys)) - mean(xs*ys)) /\n",
    "         ((mean(xs)*mean(xs)) - mean(xs*xs)))\n",
    "    b = mean(ys) - m*mean(xs)\n",
    "    return m, b\n",
    "\n",
    "def squared_error(ys_orig,ys_line):\n",
    "    return sum((ys_line - ys_orig) * (ys_line - ys_orig))\n",
    "\n",
    "def coefficient(ys_orig,ys_line):\n",
    "    y_mean_line = [mean(ys_orig) for y in ys_orig]\n",
    "    squared_r = squared_error(ys_orig, ys_line)\n",
    "    squared_y = squared_error(ys_orig, y_mean_line)\n",
    "    return 1 - (squared_r/squared_y)\n",
    "    \n",
    "m, b = best(xs,ys)\n",
    "regression_line = [(m*x)+b for x in xs]\n",
    "r_squared = coefficient(ys,regression_line)\n",
    "print(r_squared)"
   ]
  },
  {
   "cell_type": "code",
   "execution_count": null,
   "id": "square-makeup",
   "metadata": {},
   "outputs": [],
   "source": []
  }
 ],
 "metadata": {
  "kernelspec": {
   "display_name": "Python 3",
   "language": "python",
   "name": "python3"
  },
  "language_info": {
   "codemirror_mode": {
    "name": "ipython",
    "version": 3
   },
   "file_extension": ".py",
   "mimetype": "text/x-python",
   "name": "python",
   "nbconvert_exporter": "python",
   "pygments_lexer": "ipython3",
   "version": "3.7.10"
  }
 },
 "nbformat": 4,
 "nbformat_minor": 5
}
