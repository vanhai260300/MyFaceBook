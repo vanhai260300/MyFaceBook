{
 "cells": [
  {
   "cell_type": "code",
   "execution_count": 13,
   "id": "posted-bikini",
   "metadata": {},
   "outputs": [
    {
     "name": "stdout",
     "output_type": "stream",
     "text": [
      "Ma trận 1 \n",
      " [[2 6 8 6]\n",
      " [2 8 8 6]\n",
      " [3 9 6 1]]\n",
      "Ma trận 2 \n",
      " [[5 8 5 7 7]\n",
      " [5 7 4 3 6]\n",
      " [7 3 5 6 9]\n",
      " [1 5 7 4 1]]\n",
      "Nhân 2 ma trận \n",
      " [[102 112 116 104 128]\n",
      " [112 126 124 110 140]\n",
      " [103 110  88  88 130]]\n",
      "số lớn nhất trong ma trận là  140\n"
     ]
    }
   ],
   "source": [
    "import numpy as np\n",
    "x = np.random.randint(1,10,size=(3,4))\n",
    "y = np.random.randint(1,10,size=(4,5))\n",
    "print('Ma trận 1 \\n',x)\n",
    "print('Ma trận 2 \\n',y)\n",
    "tich= x.dot(y)\n",
    "print('Nhân 2 ma trận \\n',tich)\n",
    "max = np.matrix(tich)\n",
    "print('số lớn nhất trong ma trận là ',max.max())"
   ]
  },
  {
   "cell_type": "code",
   "execution_count": 23,
   "id": "average-secondary",
   "metadata": {},
   "outputs": [
    {
     "name": "stdout",
     "output_type": "stream",
     "text": [
      "Ma trận 1 \n",
      " [[6 4 9 4 6]\n",
      " [4 6 7 7 2]\n",
      " [1 5 6 8 4]\n",
      " [2 6 2 9 6]\n",
      " [4 3 2 5 8]]\n",
      "Ma trận 2 \n",
      " [[9 3 7 3 6]\n",
      " [5 5 2 6 2]\n",
      " [9 1 6 3 3]\n",
      " [3 1 8 7 1]\n",
      " [2 2 6 6 7]]\n",
      "Ma trận 1 sau khi nhân 2 \n",
      " [[12  8 18  8 12]\n",
      " [ 8 12 14 14  4]\n",
      " [ 2 10 12 16  8]\n",
      " [ 4 12  4 18 12]\n",
      " [ 8  6  4 10 16]]\n",
      "Ma trận 2 sau khi nhân 2 \n",
      " [[18  6 14  6 12]\n",
      " [10 10  4 12  4]\n",
      " [18  2 12  6  6]\n",
      " [ 6  2 16 14  2]\n",
      " [ 4  4 12 12 14]]\n",
      "Kết quả nhân 2 ma trận \n",
      " [[716 252 688 532 468]\n",
      " [616 240 600 520 312]\n",
      " [480 200 564 524 280]\n",
      " [420 236 584 588 324]\n",
      " [400 200 536 476 388]]\n",
      "Số lớn hơn 3 trong ma trận là \n",
      " [716 252 688 532 468 616 240 600 520 312 480 200 564 524 280 420 236 584\n",
      " 588 324 400 200 536 476 388]  \n"
     ]
    }
   ],
   "source": [
    "import numpy as np\n",
    "x = np.random.randint(1,10,size=(5,5))\n",
    "y = np.random.randint(1,10,size=(5,5))\n",
    "print('Ma trận 1 \\n',x)\n",
    "print('Ma trận 2 \\n' ,y)\n",
    "m = 2*x\n",
    "n= 2*y\n",
    "print('Ma trận 1 sau khi nhân 2 \\n',m)\n",
    "print('Ma trận 2 sau khi nhân 2 \\n',n)\n",
    "tich = m.dot(n)\n",
    "print('Kết quả nhân 2 ma trận \\n',tich)\n",
    "threshold = 3\n",
    "bool_idx = tich>threshold\n",
    "\n",
    "print('Số lớn hơn {} trong ma trận là \\n {}  '.format(threshold, tich[bool_idx]))\n"
   ]
  },
  {
   "cell_type": "code",
   "execution_count": 27,
   "id": "junior-performer",
   "metadata": {},
   "outputs": [
    {
     "data": {
      "image/png": "[encoded data removed]",
      "text/plain": [
       "<Figure size 432x288 with 1 Axes>"
      ]
     },
     "metadata": {
      "needs_background": "light"
     },
     "output_type": "display_data"
    }
   ],
   "source": [
    "import matplotlib.pyplot as mpl\n",
    "%matplotlib inline\n",
    "figure, axes = mpl.subplots()\n",
    "draw_circle = mpl.Circle((5,6), 1.5, fill=False, color=\"blue\")\n",
    "\n",
    "axes.add_artist(draw_circle)\n",
    "\n",
    "mpl.title(\"Circle\")\n",
    "mpl.plot([1,2,3,4,5,6,7,8,9])\n",
    "mpl.show()"
   ]
  },
  {
   "cell_type": "code",
   "execution_count": null,
   "id": "fewer-standing",
   "metadata": {},
   "outputs": [],
   "source": []
  }
 ],
 "metadata": {
  "kernelspec": {
   "display_name": "Python 3",
   "language": "python",
   "name": "python3"
  },
  "language_info": {
   "codemirror_mode": {
    "name": "ipython",
    "version": 3
   },
   "file_extension": ".py",
   "mimetype": "text/x-python",
   "name": "python",
   "nbconvert_exporter": "python",
   "pygments_lexer": "ipython3",
   "version": "3.8.5"
  }
 },
 "nbformat": 4,
 "nbformat_minor": 5
}
