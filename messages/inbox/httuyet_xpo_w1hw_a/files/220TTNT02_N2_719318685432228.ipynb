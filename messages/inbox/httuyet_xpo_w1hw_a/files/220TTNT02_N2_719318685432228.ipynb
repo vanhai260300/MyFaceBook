{
 "cells": [
  {
   "cell_type": "code",
   "execution_count": 111,
   "id": "strong-scheduling",
   "metadata": {},
   "outputs": [
    {
     "data": {
      "text/html": [
       "<div>\n",
       "<style scoped>\n",
       "    .dataframe tbody tr th:only-of-type {\n",
       "        vertical-align: middle;\n",
       "    }\n",
       "\n",
       "    .dataframe tbody tr th {\n",
       "        vertical-align: top;\n",
       "    }\n",
       "\n",
       "    .dataframe thead th {\n",
       "        text-align: right;\n",
       "    }\n",
       "</style>\n",
       "<table border=\"1\" class=\"dataframe\">\n",
       "  <thead>\n",
       "    <tr style=\"text-align: right;\">\n",
       "      <th></th>\n",
       "      <th>Gender</th>\n",
       "      <th>Height</th>\n",
       "      <th>Weight</th>\n",
       "    </tr>\n",
       "  </thead>\n",
       "  <tbody>\n",
       "    <tr>\n",
       "      <th>0</th>\n",
       "      <td>Male</td>\n",
       "      <td>73.847017</td>\n",
       "      <td>241.893563</td>\n",
       "    </tr>\n",
       "    <tr>\n",
       "      <th>1</th>\n",
       "      <td>Male</td>\n",
       "      <td>68.781904</td>\n",
       "      <td>162.310473</td>\n",
       "    </tr>\n",
       "    <tr>\n",
       "      <th>2</th>\n",
       "      <td>Male</td>\n",
       "      <td>74.110105</td>\n",
       "      <td>212.740856</td>\n",
       "    </tr>\n",
       "    <tr>\n",
       "      <th>3</th>\n",
       "      <td>Male</td>\n",
       "      <td>71.730978</td>\n",
       "      <td>220.042470</td>\n",
       "    </tr>\n",
       "    <tr>\n",
       "      <th>4</th>\n",
       "      <td>Male</td>\n",
       "      <td>69.881796</td>\n",
       "      <td>206.349801</td>\n",
       "    </tr>\n",
       "    <tr>\n",
       "      <th>5</th>\n",
       "      <td>Male</td>\n",
       "      <td>67.253016</td>\n",
       "      <td>152.212156</td>\n",
       "    </tr>\n",
       "    <tr>\n",
       "      <th>6</th>\n",
       "      <td>Male</td>\n",
       "      <td>68.785081</td>\n",
       "      <td>183.927889</td>\n",
       "    </tr>\n",
       "    <tr>\n",
       "      <th>7</th>\n",
       "      <td>Male</td>\n",
       "      <td>68.348516</td>\n",
       "      <td>167.971110</td>\n",
       "    </tr>\n",
       "    <tr>\n",
       "      <th>8</th>\n",
       "      <td>Male</td>\n",
       "      <td>67.018950</td>\n",
       "      <td>175.929440</td>\n",
       "    </tr>\n",
       "    <tr>\n",
       "      <th>9</th>\n",
       "      <td>Male</td>\n",
       "      <td>63.456494</td>\n",
       "      <td>156.399676</td>\n",
       "    </tr>\n",
       "  </tbody>\n",
       "</table>\n",
       "</div>"
      ],
      "text/plain": [
       "  Gender     Height      Weight\n",
       "0   Male  73.847017  241.893563\n",
       "1   Male  68.781904  162.310473\n",
       "2   Male  74.110105  212.740856\n",
       "3   Male  71.730978  220.042470\n",
       "4   Male  69.881796  206.349801\n",
       "5   Male  67.253016  152.212156\n",
       "6   Male  68.785081  183.927889\n",
       "7   Male  68.348516  167.971110\n",
       "8   Male  67.018950  175.929440\n",
       "9   Male  63.456494  156.399676"
      ]
     },
     "execution_count": 111,
     "metadata": {},
     "output_type": "execute_result"
    }
   ],
   "source": [
    "#2.Đọc dữ liệu từ file đó và chuyển 2 cột Height và Weight từ inch và pound về cm và kg. In ra Head().  Dùng Lambda.\n",
    "import pandas as pd\n",
    "data=pd.read_csv('weight-height.csv')\n",
    "data.head(10)"
   ]
  },
  {
   "cell_type": "code",
   "execution_count": 112,
   "id": "neither-canal",
   "metadata": {},
   "outputs": [
    {
     "data": {
      "text/html": [
       "<div>\n",
       "<style scoped>\n",
       "    .dataframe tbody tr th:only-of-type {\n",
       "        vertical-align: middle;\n",
       "    }\n",
       "\n",
       "    .dataframe tbody tr th {\n",
       "        vertical-align: top;\n",
       "    }\n",
       "\n",
       "    .dataframe thead th {\n",
       "        text-align: right;\n",
       "    }\n",
       "</style>\n",
       "<table border=\"1\" class=\"dataframe\">\n",
       "  <thead>\n",
       "    <tr style=\"text-align: right;\">\n",
       "      <th></th>\n",
       "      <th>Gender</th>\n",
       "      <th>Height</th>\n",
       "      <th>Weight</th>\n",
       "    </tr>\n",
       "  </thead>\n",
       "  <tbody>\n",
       "    <tr>\n",
       "      <th>0</th>\n",
       "      <td>Male</td>\n",
       "      <td>187.571423</td>\n",
       "      <td>109.721075</td>\n",
       "    </tr>\n",
       "    <tr>\n",
       "      <th>1</th>\n",
       "      <td>Male</td>\n",
       "      <td>174.706036</td>\n",
       "      <td>73.622792</td>\n",
       "    </tr>\n",
       "    <tr>\n",
       "      <th>2</th>\n",
       "      <td>Male</td>\n",
       "      <td>188.239668</td>\n",
       "      <td>96.497629</td>\n",
       "    </tr>\n",
       "    <tr>\n",
       "      <th>3</th>\n",
       "      <td>Male</td>\n",
       "      <td>182.196685</td>\n",
       "      <td>99.809586</td>\n",
       "    </tr>\n",
       "    <tr>\n",
       "      <th>4</th>\n",
       "      <td>Male</td>\n",
       "      <td>177.499761</td>\n",
       "      <td>93.598695</td>\n",
       "    </tr>\n",
       "    <tr>\n",
       "      <th>5</th>\n",
       "      <td>Male</td>\n",
       "      <td>170.822660</td>\n",
       "      <td>69.042272</td>\n",
       "    </tr>\n",
       "    <tr>\n",
       "      <th>6</th>\n",
       "      <td>Male</td>\n",
       "      <td>174.714106</td>\n",
       "      <td>83.428287</td>\n",
       "    </tr>\n",
       "    <tr>\n",
       "      <th>7</th>\n",
       "      <td>Male</td>\n",
       "      <td>173.605229</td>\n",
       "      <td>76.190414</td>\n",
       "    </tr>\n",
       "    <tr>\n",
       "      <th>8</th>\n",
       "      <td>Male</td>\n",
       "      <td>170.228132</td>\n",
       "      <td>79.800252</td>\n",
       "    </tr>\n",
       "    <tr>\n",
       "      <th>9</th>\n",
       "      <td>Male</td>\n",
       "      <td>161.179495</td>\n",
       "      <td>70.941700</td>\n",
       "    </tr>\n",
       "  </tbody>\n",
       "</table>\n",
       "</div>"
      ],
      "text/plain": [
       "  Gender      Height      Weight\n",
       "0   Male  187.571423  109.721075\n",
       "1   Male  174.706036   73.622792\n",
       "2   Male  188.239668   96.497629\n",
       "3   Male  182.196685   99.809586\n",
       "4   Male  177.499761   93.598695\n",
       "5   Male  170.822660   69.042272\n",
       "6   Male  174.714106   83.428287\n",
       "7   Male  173.605229   76.190414\n",
       "8   Male  170.228132   79.800252\n",
       "9   Male  161.179495   70.941700"
      ]
     },
     "execution_count": 112,
     "metadata": {},
     "output_type": "execute_result"
    }
   ],
   "source": [
    "data['Height']=data['Height'].apply(lambda  x :x*2.54)\n",
    "data['Weight']=data['Weight'].apply(lambda  x:x*0.45359237)\n",
    "data.head(10)"
   ]
  },
  {
   "cell_type": "code",
   "execution_count": 113,
   "id": "above-formula",
   "metadata": {},
   "outputs": [
    {
     "data": {
      "image/png": "[encoded data removed]",
      "text/plain": [
       "<Figure size 432x288 with 1 Axes>"
      ]
     },
     "metadata": {
      "needs_background": "light"
     },
     "output_type": "display_data"
    }
   ],
   "source": [
    "#3. dữ liệu lên trục toạ độ với 2 màu sắc khác nhau biểu thị cho 2 giới tính.\n",
    "import seaborn as sns\n",
    "import matplotlib.pyplot as plt\n",
    "sns.scatterplot(x=data['Height'],y=data['Weight'],hue='Gender',data=data);\n",
    "plt.xlabel('Height')\n",
    "plt.ylabel('Weight')\n",
    "plt.show()"
   ]
  },
  {
   "cell_type": "code",
   "execution_count": 114,
   "id": "three-reach",
   "metadata": {},
   "outputs": [
    {
     "data": {
      "image/png": "[encoded data removed]",
      "text/plain": [
       "<Figure size 432x288 with 1 Axes>"
      ]
     },
     "metadata": {
      "needs_background": "light"
     },
     "output_type": "display_data"
    }
   ],
   "source": [
    "#4.Tạo mô hình Hồi quy tuyến tính cho tập dữ liệu trên. Với đầu vào là chiều cao, dữ liệu nhãn là cân nặng.\n",
    "import numpy as np\n",
    "from sklearn.linear_model import LinearRegression\n",
    "# number of observations/points\n",
    "n = np.size(data['Height'])\n",
    "area = 50\n",
    "reg = LinearRegression().fit(data['Height'].values.reshape(-1,1), data['Weight'])\n",
    "# plot data points\n",
    "sns.scatterplot(x=data['Height'],y=data['Weight'],hue='Gender', data=data);\n",
    "# predicted response vector\n",
    "y_pred = reg.intercept_ + reg.coef_[0]*data['Height']\n",
    "# plotting the regression line\n",
    "plt.plot(data['Height'], y_pred, color = \"y\")\n",
    "# putting labels\n",
    "plt.xlabel('Height')\n",
    "plt.ylabel('Weight')\n",
    "plt.show()"
   ]
  },
  {
   "cell_type": "code",
   "execution_count": 115,
   "id": "sensitive-robinson",
   "metadata": {},
   "outputs": [
    {
     "name": "stdout",
     "output_type": "stream",
     "text": [
      "Vùng bị nhiễu: \n",
      "       Gender      Height      Weight      ERROR\n",
      "67      Male  255.944040  100.097876  90.563456\n",
      "78      Male  168.942074   89.108158  15.385806\n",
      "86      Male  169.154339   94.504017  20.496361\n",
      "159     Male  165.655182   84.126774  14.822320\n",
      "160     Male  163.407466   80.509834  14.226526\n",
      "...      ...         ...         ...        ...\n",
      "9774  Female  167.174298   50.116735  21.229556\n",
      "9902  Female  166.154081   56.145098  13.829924\n",
      "9919  Female  169.648103   58.703710  15.967613\n",
      "9975  Female  168.279885   56.254488  16.577818\n",
      "9991  Female  159.097154   46.653592  13.836245\n",
      "\n",
      "[162 rows x 4 columns]\n",
      "Loại bỏ nhiễu: \n",
      "       Gender      Height      Weight      ERROR\n",
      "0       Male  187.571423  109.721075  10.959092\n",
      "1       Male  174.706036   73.622792   7.846878\n",
      "2       Male  188.239668   96.497629   3.162538\n",
      "3       Male  182.196685   99.809586   8.271766\n",
      "4       Male  177.499761   93.598695   8.373991\n",
      "...      ...         ...         ...        ...\n",
      "9995  Female  168.078536   62.041210  10.520465\n",
      "9996  Female  170.350573   77.504378   1.888869\n",
      "9997  Female  162.224700   58.275424   6.418133\n",
      "9998  Female  175.346978   74.322226   8.008930\n",
      "9999  Female  157.338385   51.550366   6.575515\n",
      "\n",
      "[9838 rows x 4 columns]\n"
     ]
    }
   ],
   "source": [
    "#5.Tìm  toạ độ nhiễu, in ra và loại bỏ nhiễu. \n",
    "w1 = reg.coef_[0]\n",
    "w0 = reg.intercept_\n",
    "data['ERROR'] = abs(data['Weight'] - w0 - w1*data['Height'])\n",
    "healthyArea = (sum(data['ERROR']) / len(data['ERROR'])) * 3\n",
    "err = data[data['ERROR'] > healthyArea]\n",
    "unerr = data[data['ERROR'] <= healthyArea]\n",
    "print('Vùng bị nhiễu: \\n', err)\n",
    "print('Loại bỏ nhiễu: \\n', unerr)"
   ]
  },
  {
   "cell_type": "code",
   "execution_count": 116,
   "id": "bridal-planet",
   "metadata": {},
   "outputs": [
    {
     "name": "stdout",
     "output_type": "stream",
     "text": [
      "train_set: \n",
      "       Gender      Height      Weight      ERROR\n",
      "0       Male  187.571423  109.721075  10.959092\n",
      "1       Male  174.706036   73.622792   7.846878\n",
      "2       Male  188.239668   96.497629   3.162538\n",
      "3       Male  182.196685   99.809586   8.271766\n",
      "4       Male  177.499761   93.598695   8.373991\n",
      "...      ...         ...         ...        ...\n",
      "8995  Female  156.251928   60.317814   3.652235\n",
      "8996  Female  159.453903   55.233039   5.736302\n",
      "8997  Female  168.181746   78.645075   5.944678\n",
      "8998  Female  174.351573   68.582768  12.410469\n",
      "8999  Female  160.772475   62.559367   0.182261\n",
      "\n",
      "[8000 rows x 4 columns]\n",
      "test_set: \n",
      "       Gender      Height     Weight      ERROR\n",
      "3000    Male  172.167952  86.141578   8.083337\n",
      "3001    Male  172.803587  82.890359   3.977763\n",
      "3002    Male  168.981796  74.717974   0.942232\n",
      "3003    Male  176.169260  91.145720   7.709337\n",
      "3004    Male  167.327422  79.061716   7.509611\n",
      "...      ...         ...        ...        ...\n",
      "9995  Female  168.078536  62.041210  10.520465\n",
      "9996  Female  170.350573  77.504378   1.888869\n",
      "9997  Female  162.224700  58.275424   6.418133\n",
      "9998  Female  175.346978  74.322226   8.008930\n",
      "9999  Female  157.338385  51.550366   6.575515\n",
      "\n",
      "[2000 rows x 4 columns]\n"
     ]
    }
   ],
   "source": [
    "#6.Chia dữ liệu thành 2 phần train_set (80%) và test_set (20%) chia đều cho cả 2 giới tính. (in ra shape của 4 biến)\n",
    "train_set = data[0:3000].append(data[4000:9000])\n",
    "test_set  = data[3000:4000].append(data[9000:10000])\n",
    "print('train_set: \\n',train_set)\n",
    "print('test_set: \\n',test_set)"
   ]
  },
  {
   "cell_type": "code",
   "execution_count": 117,
   "id": "functional-clinton",
   "metadata": {},
   "outputs": [
    {
     "data": {
      "image/png": "[encoded data removed]",
      "text/plain": [
       "<Figure size 432x288 with 1 Axes>"
      ]
     },
     "metadata": {
      "needs_background": "light"
     },
     "output_type": "display_data"
    },
    {
     "name": "stdout",
     "output_type": "stream",
     "text": [
      "R2 score: 0.8326198784839222\n"
     ]
    }
   ],
   "source": [
    "#7.Tạo mô hình Hồi quy tuyến tính cho tập train_set và tính R2_score.\n",
    "from sklearn.metrics import r2_score\n",
    "sns.scatterplot(x=train_set['Height'],y=train_set['Weight'],hue='Gender', data=data);\n",
    "reg = LinearRegression().fit(train_set['Height'].values.reshape(-1,1),train_set['Weight'])\n",
    "# predicted response vector\n",
    "y_pred = reg.intercept_ + reg.coef_[0]*train_set['Height']\n",
    "# plotting the regression line\n",
    "plt.plot(train_set['Height'], y_pred, color = \"y\")\n",
    "# putting labels\n",
    "plt.xlabel('Height')\n",
    "plt.ylabel('Weight')\n",
    "plt.show()\n",
    "r2Score = r2_score(train_set['Weight'], y_pred)\n",
    "print('R2 score:', r2Score)"
   ]
  },
  {
   "cell_type": "code",
   "execution_count": 118,
   "id": "understanding-coffee",
   "metadata": {},
   "outputs": [
    {
     "name": "stdout",
     "output_type": "stream",
     "text": [
      "R2 score: 0.8541264707418985\n"
     ]
    }
   ],
   "source": [
    "#8.Tính điểm R2_score cho tập test_set.\n",
    "x=test_set['Height']\n",
    "y=test_set['Weight']\n",
    "reg = LinearRegression().fit(x.values.reshape(-1,1), y)\n",
    "# predicted response vector\n",
    "y_pred = reg.intercept_ + reg.coef_[0]*x\n",
    "r2Score = r2_score(y, y_pred)\n",
    "print('R2 score:', r2Score)"
   ]
  },
  {
   "cell_type": "code",
   "execution_count": 121,
   "id": "extended-princess",
   "metadata": {},
   "outputs": [
    {
     "name": "stdout",
     "output_type": "stream",
     "text": [
      "weight: \n",
      "241\n",
      "Hight: \n",
      "73\n",
      "K can doi\n"
     ]
    }
   ],
   "source": [
    "#9.Viết Hàm để nhập chiều cao, cân nặng sau đó dự đoán tình trạng người đó như thế nào, dựa trên ERROR, nếu error càng thấp thì cơ thể càng cân đối.\n",
    "print(\"weight: \")\n",
    "weight =int(input())\n",
    "print(\"Hight: \")\n",
    "height =int(input())\n",
    "errPoint = abs(weight - w0 - w1*height)\n",
    "if errPoint > healthyArea :\n",
    "    print(\"K can doi\")\n",
    "else:\n",
    "    print(\"Can doi\")"
   ]
  },
  {
   "cell_type": "code",
   "execution_count": null,
   "id": "incident-carolina",
   "metadata": {},
   "outputs": [],
   "source": []
  },
  {
   "cell_type": "code",
   "execution_count": null,
   "id": "sound-career",
   "metadata": {},
   "outputs": [],
   "source": []
  }
 ],
 "metadata": {
  "kernelspec": {
   "display_name": "Python 3",
   "language": "python",
   "name": "python3"
  },
  "language_info": {
   "codemirror_mode": {
    "name": "ipython",
    "version": 3
   },
   "file_extension": ".py",
   "mimetype": "text/x-python",
   "name": "python",
   "nbconvert_exporter": "python",
   "pygments_lexer": "ipython3",
   "version": "3.8.5"
  }
 },
 "nbformat": 4,
 "nbformat_minor": 5
}
